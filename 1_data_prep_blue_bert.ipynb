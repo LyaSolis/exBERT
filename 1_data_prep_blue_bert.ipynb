{
  "cells": [
    {
      "cell_type": "markdown",
      "metadata": {
        "id": "view-in-github",
        "colab_type": "text"
      },
      "source": [
        "<a href=\"https://colab.research.google.com/github/LyaSolis/exBERT/blob/master/1_data_prep_blue_bert.ipynb\" target=\"_parent\"><img src=\"https://colab.research.google.com/assets/colab-badge.svg\" alt=\"Open In Colab\"/></a>"
      ]
    },
    {
      "cell_type": "code",
      "source": [
        "from google.colab import drive\n",
        "drive.mount('/content/drive')"
      ],
      "metadata": {
        "colab": {
          "base_uri": "https://localhost:8080/"
        },
        "id": "VmOkalN1zrPD",
        "outputId": "9db5b828-713f-4b21-bd25-7aa0621b80f3"
      },
      "id": "VmOkalN1zrPD",
      "execution_count": 2,
      "outputs": [
        {
          "output_type": "stream",
          "name": "stdout",
          "text": [
            "Mounted at /content/drive\n"
          ]
        }
      ]
    },
    {
      "cell_type": "code",
      "source": [
        "!ls /content/drive/MyDrive/GitHub/bluebert"
      ],
      "metadata": {
        "colab": {
          "base_uri": "https://localhost:8080/"
        },
        "id": "ic_kZyJ6zuSp",
        "outputId": "8a7ee18f-24e7-4275-a7e4-0e19c828c981"
      },
      "id": "ic_kZyJ6zuSp",
      "execution_count": 3,
      "outputs": [
        {
          "output_type": "stream",
          "name": "stdout",
          "text": [
            "bert\t  LICENSE.txt  NER_output\t set_up_bluebert.ipynb\n",
            "bluebert  mribert      README.md\t tokenizer\n",
            "elmo\t  mt-bluebert  requirements.txt\n"
          ]
        }
      ]
    },
    {
      "cell_type": "markdown",
      "id": "f62293ac",
      "metadata": {
        "id": "f62293ac"
      },
      "source": [
        "## Preprocess Data"
      ]
    },
    {
      "cell_type": "markdown",
      "source": [
        "### Input file format: \n",
        "1. One sentence per line. These should ideally be actual sentences, not entire paragraphs or arbitrary spans of text. \n",
        "(Because we use the sentence boundaries for the \"next sentence prediction\" task).\n"
      ],
      "metadata": {
        "id": "ypjnE-73_-Qk"
      },
      "id": "ypjnE-73_-Qk"
    },
    {
      "cell_type": "code",
      "source": [
        "import pandas as pd\n",
        "df = pd.read_csv(\"/content/drive/MyDrive/GitHub/exBERT/data/paragrafs.csv\")\n",
        "df.head(1)"
      ],
      "metadata": {
        "colab": {
          "base_uri": "https://localhost:8080/",
          "height": 80
        },
        "id": "628bZflTPR8b",
        "outputId": "817c760a-aadf-4b35-9194-da090666e98a"
      },
      "id": "628bZflTPR8b",
      "execution_count": 81,
      "outputs": [
        {
          "output_type": "execute_result",
          "data": {
            "text/plain": [
              "   Unnamed: 0  articleids                                               txts\n",
              "0           0  PMC8519417  Patients with chronic lymphocytic leukemia (CL..."
            ],
            "text/html": [
              "\n",
              "  <div id=\"df-73f6b6ee-e806-4721-8cc8-9b13e1b00d24\">\n",
              "    <div class=\"colab-df-container\">\n",
              "      <div>\n",
              "<style scoped>\n",
              "    .dataframe tbody tr th:only-of-type {\n",
              "        vertical-align: middle;\n",
              "    }\n",
              "\n",
              "    .dataframe tbody tr th {\n",
              "        vertical-align: top;\n",
              "    }\n",
              "\n",
              "    .dataframe thead th {\n",
              "        text-align: right;\n",
              "    }\n",
              "</style>\n",
              "<table border=\"1\" class=\"dataframe\">\n",
              "  <thead>\n",
              "    <tr style=\"text-align: right;\">\n",
              "      <th></th>\n",
              "      <th>Unnamed: 0</th>\n",
              "      <th>articleids</th>\n",
              "      <th>txts</th>\n",
              "    </tr>\n",
              "  </thead>\n",
              "  <tbody>\n",
              "    <tr>\n",
              "      <th>0</th>\n",
              "      <td>0</td>\n",
              "      <td>PMC8519417</td>\n",
              "      <td>Patients with chronic lymphocytic leukemia (CL...</td>\n",
              "    </tr>\n",
              "  </tbody>\n",
              "</table>\n",
              "</div>\n",
              "      <button class=\"colab-df-convert\" onclick=\"convertToInteractive('df-73f6b6ee-e806-4721-8cc8-9b13e1b00d24')\"\n",
              "              title=\"Convert this dataframe to an interactive table.\"\n",
              "              style=\"display:none;\">\n",
              "        \n",
              "  <svg xmlns=\"http://www.w3.org/2000/svg\" height=\"24px\"viewBox=\"0 0 24 24\"\n",
              "       width=\"24px\">\n",
              "    <path d=\"M0 0h24v24H0V0z\" fill=\"none\"/>\n",
              "    <path d=\"M18.56 5.44l.94 2.06.94-2.06 2.06-.94-2.06-.94-.94-2.06-.94 2.06-2.06.94zm-11 1L8.5 8.5l.94-2.06 2.06-.94-2.06-.94L8.5 2.5l-.94 2.06-2.06.94zm10 10l.94 2.06.94-2.06 2.06-.94-2.06-.94-.94-2.06-.94 2.06-2.06.94z\"/><path d=\"M17.41 7.96l-1.37-1.37c-.4-.4-.92-.59-1.43-.59-.52 0-1.04.2-1.43.59L10.3 9.45l-7.72 7.72c-.78.78-.78 2.05 0 2.83L4 21.41c.39.39.9.59 1.41.59.51 0 1.02-.2 1.41-.59l7.78-7.78 2.81-2.81c.8-.78.8-2.07 0-2.86zM5.41 20L4 18.59l7.72-7.72 1.47 1.35L5.41 20z\"/>\n",
              "  </svg>\n",
              "      </button>\n",
              "      \n",
              "  <style>\n",
              "    .colab-df-container {\n",
              "      display:flex;\n",
              "      flex-wrap:wrap;\n",
              "      gap: 12px;\n",
              "    }\n",
              "\n",
              "    .colab-df-convert {\n",
              "      background-color: #E8F0FE;\n",
              "      border: none;\n",
              "      border-radius: 50%;\n",
              "      cursor: pointer;\n",
              "      display: none;\n",
              "      fill: #1967D2;\n",
              "      height: 32px;\n",
              "      padding: 0 0 0 0;\n",
              "      width: 32px;\n",
              "    }\n",
              "\n",
              "    .colab-df-convert:hover {\n",
              "      background-color: #E2EBFA;\n",
              "      box-shadow: 0px 1px 2px rgba(60, 64, 67, 0.3), 0px 1px 3px 1px rgba(60, 64, 67, 0.15);\n",
              "      fill: #174EA6;\n",
              "    }\n",
              "\n",
              "    [theme=dark] .colab-df-convert {\n",
              "      background-color: #3B4455;\n",
              "      fill: #D2E3FC;\n",
              "    }\n",
              "\n",
              "    [theme=dark] .colab-df-convert:hover {\n",
              "      background-color: #434B5C;\n",
              "      box-shadow: 0px 1px 3px 1px rgba(0, 0, 0, 0.15);\n",
              "      filter: drop-shadow(0px 1px 2px rgba(0, 0, 0, 0.3));\n",
              "      fill: #FFFFFF;\n",
              "    }\n",
              "  </style>\n",
              "\n",
              "      <script>\n",
              "        const buttonEl =\n",
              "          document.querySelector('#df-73f6b6ee-e806-4721-8cc8-9b13e1b00d24 button.colab-df-convert');\n",
              "        buttonEl.style.display =\n",
              "          google.colab.kernel.accessAllowed ? 'block' : 'none';\n",
              "\n",
              "        async function convertToInteractive(key) {\n",
              "          const element = document.querySelector('#df-73f6b6ee-e806-4721-8cc8-9b13e1b00d24');\n",
              "          const dataTable =\n",
              "            await google.colab.kernel.invokeFunction('convertToInteractive',\n",
              "                                                     [key], {});\n",
              "          if (!dataTable) return;\n",
              "\n",
              "          const docLinkHtml = 'Like what you see? Visit the ' +\n",
              "            '<a target=\"_blank\" href=https://colab.research.google.com/notebooks/data_table.ipynb>data table notebook</a>'\n",
              "            + ' to learn more about interactive tables.';\n",
              "          element.innerHTML = '';\n",
              "          dataTable['output_type'] = 'display_data';\n",
              "          await google.colab.output.renderOutput(dataTable, element);\n",
              "          const docLink = document.createElement('div');\n",
              "          docLink.innerHTML = docLinkHtml;\n",
              "          element.appendChild(docLink);\n",
              "        }\n",
              "      </script>\n",
              "    </div>\n",
              "  </div>\n",
              "  "
            ]
          },
          "metadata": {},
          "execution_count": 81
        }
      ]
    },
    {
      "cell_type": "code",
      "source": [
        "df = df.drop(['Unnamed: 0'], axis = 1)\n",
        "df"
      ],
      "metadata": {
        "colab": {
          "base_uri": "https://localhost:8080/",
          "height": 423
        },
        "id": "c_1tLZmNPVRc",
        "outputId": "4e2ce93e-fca9-4476-fcf4-7b6449c4d792"
      },
      "id": "c_1tLZmNPVRc",
      "execution_count": 82,
      "outputs": [
        {
          "output_type": "execute_result",
          "data": {
            "text/plain": [
              "      articleids                                               txts\n",
              "0     PMC8519417  Patients with chronic lymphocytic leukemia (CL...\n",
              "1     PMC8519417  Patients with CLL with serum IgG >= 400 mg/dL ...\n",
              "2     PMC8519417  Fifteen patients enrolled with median IgG = 78...\n",
              "3     PMC8519417  Patients with CLL demonstrate humoral immunode...\n",
              "4     PMC8519417                                      NCT 03730129.\n",
              "...          ...                                                ...\n",
              "7467  PMC4535919  The use of GM-CSF as a single dose with standa...\n",
              "7468  PMC4535919  A low immunogenicity of PPV, which predominant...\n",
              "7469  PMC4535919  Various strategies to improve vaccine response...\n",
              "7470  PMC2150407  B-cell chronic lymphocytic leukaemia (CLL) can...\n",
              "7471  PMC1968218  2'-Chlorodeoxyadenosine (2CDA) is a purine ana...\n",
              "\n",
              "[7472 rows x 2 columns]"
            ],
            "text/html": [
              "\n",
              "  <div id=\"df-5a59168f-6bbe-487d-a4ad-b83c2618add5\">\n",
              "    <div class=\"colab-df-container\">\n",
              "      <div>\n",
              "<style scoped>\n",
              "    .dataframe tbody tr th:only-of-type {\n",
              "        vertical-align: middle;\n",
              "    }\n",
              "\n",
              "    .dataframe tbody tr th {\n",
              "        vertical-align: top;\n",
              "    }\n",
              "\n",
              "    .dataframe thead th {\n",
              "        text-align: right;\n",
              "    }\n",
              "</style>\n",
              "<table border=\"1\" class=\"dataframe\">\n",
              "  <thead>\n",
              "    <tr style=\"text-align: right;\">\n",
              "      <th></th>\n",
              "      <th>articleids</th>\n",
              "      <th>txts</th>\n",
              "    </tr>\n",
              "  </thead>\n",
              "  <tbody>\n",
              "    <tr>\n",
              "      <th>0</th>\n",
              "      <td>PMC8519417</td>\n",
              "      <td>Patients with chronic lymphocytic leukemia (CL...</td>\n",
              "    </tr>\n",
              "    <tr>\n",
              "      <th>1</th>\n",
              "      <td>PMC8519417</td>\n",
              "      <td>Patients with CLL with serum IgG &gt;= 400 mg/dL ...</td>\n",
              "    </tr>\n",
              "    <tr>\n",
              "      <th>2</th>\n",
              "      <td>PMC8519417</td>\n",
              "      <td>Fifteen patients enrolled with median IgG = 78...</td>\n",
              "    </tr>\n",
              "    <tr>\n",
              "      <th>3</th>\n",
              "      <td>PMC8519417</td>\n",
              "      <td>Patients with CLL demonstrate humoral immunode...</td>\n",
              "    </tr>\n",
              "    <tr>\n",
              "      <th>4</th>\n",
              "      <td>PMC8519417</td>\n",
              "      <td>NCT 03730129.</td>\n",
              "    </tr>\n",
              "    <tr>\n",
              "      <th>...</th>\n",
              "      <td>...</td>\n",
              "      <td>...</td>\n",
              "    </tr>\n",
              "    <tr>\n",
              "      <th>7467</th>\n",
              "      <td>PMC4535919</td>\n",
              "      <td>The use of GM-CSF as a single dose with standa...</td>\n",
              "    </tr>\n",
              "    <tr>\n",
              "      <th>7468</th>\n",
              "      <td>PMC4535919</td>\n",
              "      <td>A low immunogenicity of PPV, which predominant...</td>\n",
              "    </tr>\n",
              "    <tr>\n",
              "      <th>7469</th>\n",
              "      <td>PMC4535919</td>\n",
              "      <td>Various strategies to improve vaccine response...</td>\n",
              "    </tr>\n",
              "    <tr>\n",
              "      <th>7470</th>\n",
              "      <td>PMC2150407</td>\n",
              "      <td>B-cell chronic lymphocytic leukaemia (CLL) can...</td>\n",
              "    </tr>\n",
              "    <tr>\n",
              "      <th>7471</th>\n",
              "      <td>PMC1968218</td>\n",
              "      <td>2'-Chlorodeoxyadenosine (2CDA) is a purine ana...</td>\n",
              "    </tr>\n",
              "  </tbody>\n",
              "</table>\n",
              "<p>7472 rows × 2 columns</p>\n",
              "</div>\n",
              "      <button class=\"colab-df-convert\" onclick=\"convertToInteractive('df-5a59168f-6bbe-487d-a4ad-b83c2618add5')\"\n",
              "              title=\"Convert this dataframe to an interactive table.\"\n",
              "              style=\"display:none;\">\n",
              "        \n",
              "  <svg xmlns=\"http://www.w3.org/2000/svg\" height=\"24px\"viewBox=\"0 0 24 24\"\n",
              "       width=\"24px\">\n",
              "    <path d=\"M0 0h24v24H0V0z\" fill=\"none\"/>\n",
              "    <path d=\"M18.56 5.44l.94 2.06.94-2.06 2.06-.94-2.06-.94-.94-2.06-.94 2.06-2.06.94zm-11 1L8.5 8.5l.94-2.06 2.06-.94-2.06-.94L8.5 2.5l-.94 2.06-2.06.94zm10 10l.94 2.06.94-2.06 2.06-.94-2.06-.94-.94-2.06-.94 2.06-2.06.94z\"/><path d=\"M17.41 7.96l-1.37-1.37c-.4-.4-.92-.59-1.43-.59-.52 0-1.04.2-1.43.59L10.3 9.45l-7.72 7.72c-.78.78-.78 2.05 0 2.83L4 21.41c.39.39.9.59 1.41.59.51 0 1.02-.2 1.41-.59l7.78-7.78 2.81-2.81c.8-.78.8-2.07 0-2.86zM5.41 20L4 18.59l7.72-7.72 1.47 1.35L5.41 20z\"/>\n",
              "  </svg>\n",
              "      </button>\n",
              "      \n",
              "  <style>\n",
              "    .colab-df-container {\n",
              "      display:flex;\n",
              "      flex-wrap:wrap;\n",
              "      gap: 12px;\n",
              "    }\n",
              "\n",
              "    .colab-df-convert {\n",
              "      background-color: #E8F0FE;\n",
              "      border: none;\n",
              "      border-radius: 50%;\n",
              "      cursor: pointer;\n",
              "      display: none;\n",
              "      fill: #1967D2;\n",
              "      height: 32px;\n",
              "      padding: 0 0 0 0;\n",
              "      width: 32px;\n",
              "    }\n",
              "\n",
              "    .colab-df-convert:hover {\n",
              "      background-color: #E2EBFA;\n",
              "      box-shadow: 0px 1px 2px rgba(60, 64, 67, 0.3), 0px 1px 3px 1px rgba(60, 64, 67, 0.15);\n",
              "      fill: #174EA6;\n",
              "    }\n",
              "\n",
              "    [theme=dark] .colab-df-convert {\n",
              "      background-color: #3B4455;\n",
              "      fill: #D2E3FC;\n",
              "    }\n",
              "\n",
              "    [theme=dark] .colab-df-convert:hover {\n",
              "      background-color: #434B5C;\n",
              "      box-shadow: 0px 1px 3px 1px rgba(0, 0, 0, 0.15);\n",
              "      filter: drop-shadow(0px 1px 2px rgba(0, 0, 0, 0.3));\n",
              "      fill: #FFFFFF;\n",
              "    }\n",
              "  </style>\n",
              "\n",
              "      <script>\n",
              "        const buttonEl =\n",
              "          document.querySelector('#df-5a59168f-6bbe-487d-a4ad-b83c2618add5 button.colab-df-convert');\n",
              "        buttonEl.style.display =\n",
              "          google.colab.kernel.accessAllowed ? 'block' : 'none';\n",
              "\n",
              "        async function convertToInteractive(key) {\n",
              "          const element = document.querySelector('#df-5a59168f-6bbe-487d-a4ad-b83c2618add5');\n",
              "          const dataTable =\n",
              "            await google.colab.kernel.invokeFunction('convertToInteractive',\n",
              "                                                     [key], {});\n",
              "          if (!dataTable) return;\n",
              "\n",
              "          const docLinkHtml = 'Like what you see? Visit the ' +\n",
              "            '<a target=\"_blank\" href=https://colab.research.google.com/notebooks/data_table.ipynb>data table notebook</a>'\n",
              "            + ' to learn more about interactive tables.';\n",
              "          element.innerHTML = '';\n",
              "          dataTable['output_type'] = 'display_data';\n",
              "          await google.colab.output.renderOutput(dataTable, element);\n",
              "          const docLink = document.createElement('div');\n",
              "          docLink.innerHTML = docLinkHtml;\n",
              "          element.appendChild(docLink);\n",
              "        }\n",
              "      </script>\n",
              "    </div>\n",
              "  </div>\n",
              "  "
            ]
          },
          "metadata": {},
          "execution_count": 82
        }
      ]
    },
    {
      "cell_type": "code",
      "source": [
        "import re\n",
        "# Testing patterns\n",
        "text = \"Patients with. chronic lymphocytic 's leukemia (. CL Patients with chronic. lymphocytic. leukemia (CL\"\n",
        "re.findall(\"\\.(?= [a-z])\",  text)"
      ],
      "metadata": {
        "colab": {
          "base_uri": "https://localhost:8080/"
        },
        "id": "kWZm8rGBYoIv",
        "outputId": "fdd072ea-c0ad-4a62-c5ac-c280811a7f75"
      },
      "id": "kWZm8rGBYoIv",
      "execution_count": 83,
      "outputs": [
        {
          "output_type": "execute_result",
          "data": {
            "text/plain": [
              "['.', '.', '.']"
            ]
          },
          "metadata": {},
          "execution_count": 83
        }
      ]
    },
    {
      "cell_type": "code",
      "source": [
        "re.sub(r\"\\.(?= [a-z])\", \".\\\\n\", text)"
      ],
      "metadata": {
        "colab": {
          "base_uri": "https://localhost:8080/",
          "height": 35
        },
        "id": "oYVC5_LB7PBm",
        "outputId": "4aea0cc5-de20-4398-c6f7-f59e7092c940"
      },
      "id": "oYVC5_LB7PBm",
      "execution_count": 84,
      "outputs": [
        {
          "output_type": "execute_result",
          "data": {
            "text/plain": [
              "\"Patients with.\\n chronic lymphocytic 's leukemia (. CL Patients with chronic.\\n lymphocytic.\\n leukemia (CL\""
            ],
            "application/vnd.google.colaboratory.intrinsic+json": {
              "type": "string"
            }
          },
          "metadata": {},
          "execution_count": 84
        }
      ]
    },
    {
      "cell_type": "code",
      "source": [
        "df[df['txts'].isna()]"
      ],
      "metadata": {
        "colab": {
          "base_uri": "https://localhost:8080/",
          "height": 80
        },
        "id": "ddsQJOonD82d",
        "outputId": "98efd2f5-3a4e-43b7-9ce8-5860656fd074"
      },
      "id": "ddsQJOonD82d",
      "execution_count": 97,
      "outputs": [
        {
          "output_type": "execute_result",
          "data": {
            "text/plain": [
              "     articleids txts\n",
              "384  PMC7216400  NaN"
            ],
            "text/html": [
              "\n",
              "  <div id=\"df-4e870b84-aa09-4d24-a817-60cd8e509ac4\">\n",
              "    <div class=\"colab-df-container\">\n",
              "      <div>\n",
              "<style scoped>\n",
              "    .dataframe tbody tr th:only-of-type {\n",
              "        vertical-align: middle;\n",
              "    }\n",
              "\n",
              "    .dataframe tbody tr th {\n",
              "        vertical-align: top;\n",
              "    }\n",
              "\n",
              "    .dataframe thead th {\n",
              "        text-align: right;\n",
              "    }\n",
              "</style>\n",
              "<table border=\"1\" class=\"dataframe\">\n",
              "  <thead>\n",
              "    <tr style=\"text-align: right;\">\n",
              "      <th></th>\n",
              "      <th>articleids</th>\n",
              "      <th>txts</th>\n",
              "    </tr>\n",
              "  </thead>\n",
              "  <tbody>\n",
              "    <tr>\n",
              "      <th>384</th>\n",
              "      <td>PMC7216400</td>\n",
              "      <td>NaN</td>\n",
              "    </tr>\n",
              "  </tbody>\n",
              "</table>\n",
              "</div>\n",
              "      <button class=\"colab-df-convert\" onclick=\"convertToInteractive('df-4e870b84-aa09-4d24-a817-60cd8e509ac4')\"\n",
              "              title=\"Convert this dataframe to an interactive table.\"\n",
              "              style=\"display:none;\">\n",
              "        \n",
              "  <svg xmlns=\"http://www.w3.org/2000/svg\" height=\"24px\"viewBox=\"0 0 24 24\"\n",
              "       width=\"24px\">\n",
              "    <path d=\"M0 0h24v24H0V0z\" fill=\"none\"/>\n",
              "    <path d=\"M18.56 5.44l.94 2.06.94-2.06 2.06-.94-2.06-.94-.94-2.06-.94 2.06-2.06.94zm-11 1L8.5 8.5l.94-2.06 2.06-.94-2.06-.94L8.5 2.5l-.94 2.06-2.06.94zm10 10l.94 2.06.94-2.06 2.06-.94-2.06-.94-.94-2.06-.94 2.06-2.06.94z\"/><path d=\"M17.41 7.96l-1.37-1.37c-.4-.4-.92-.59-1.43-.59-.52 0-1.04.2-1.43.59L10.3 9.45l-7.72 7.72c-.78.78-.78 2.05 0 2.83L4 21.41c.39.39.9.59 1.41.59.51 0 1.02-.2 1.41-.59l7.78-7.78 2.81-2.81c.8-.78.8-2.07 0-2.86zM5.41 20L4 18.59l7.72-7.72 1.47 1.35L5.41 20z\"/>\n",
              "  </svg>\n",
              "      </button>\n",
              "      \n",
              "  <style>\n",
              "    .colab-df-container {\n",
              "      display:flex;\n",
              "      flex-wrap:wrap;\n",
              "      gap: 12px;\n",
              "    }\n",
              "\n",
              "    .colab-df-convert {\n",
              "      background-color: #E8F0FE;\n",
              "      border: none;\n",
              "      border-radius: 50%;\n",
              "      cursor: pointer;\n",
              "      display: none;\n",
              "      fill: #1967D2;\n",
              "      height: 32px;\n",
              "      padding: 0 0 0 0;\n",
              "      width: 32px;\n",
              "    }\n",
              "\n",
              "    .colab-df-convert:hover {\n",
              "      background-color: #E2EBFA;\n",
              "      box-shadow: 0px 1px 2px rgba(60, 64, 67, 0.3), 0px 1px 3px 1px rgba(60, 64, 67, 0.15);\n",
              "      fill: #174EA6;\n",
              "    }\n",
              "\n",
              "    [theme=dark] .colab-df-convert {\n",
              "      background-color: #3B4455;\n",
              "      fill: #D2E3FC;\n",
              "    }\n",
              "\n",
              "    [theme=dark] .colab-df-convert:hover {\n",
              "      background-color: #434B5C;\n",
              "      box-shadow: 0px 1px 3px 1px rgba(0, 0, 0, 0.15);\n",
              "      filter: drop-shadow(0px 1px 2px rgba(0, 0, 0, 0.3));\n",
              "      fill: #FFFFFF;\n",
              "    }\n",
              "  </style>\n",
              "\n",
              "      <script>\n",
              "        const buttonEl =\n",
              "          document.querySelector('#df-4e870b84-aa09-4d24-a817-60cd8e509ac4 button.colab-df-convert');\n",
              "        buttonEl.style.display =\n",
              "          google.colab.kernel.accessAllowed ? 'block' : 'none';\n",
              "\n",
              "        async function convertToInteractive(key) {\n",
              "          const element = document.querySelector('#df-4e870b84-aa09-4d24-a817-60cd8e509ac4');\n",
              "          const dataTable =\n",
              "            await google.colab.kernel.invokeFunction('convertToInteractive',\n",
              "                                                     [key], {});\n",
              "          if (!dataTable) return;\n",
              "\n",
              "          const docLinkHtml = 'Like what you see? Visit the ' +\n",
              "            '<a target=\"_blank\" href=https://colab.research.google.com/notebooks/data_table.ipynb>data table notebook</a>'\n",
              "            + ' to learn more about interactive tables.';\n",
              "          element.innerHTML = '';\n",
              "          dataTable['output_type'] = 'display_data';\n",
              "          await google.colab.output.renderOutput(dataTable, element);\n",
              "          const docLink = document.createElement('div');\n",
              "          docLink.innerHTML = docLinkHtml;\n",
              "          element.appendChild(docLink);\n",
              "        }\n",
              "      </script>\n",
              "    </div>\n",
              "  </div>\n",
              "  "
            ]
          },
          "metadata": {},
          "execution_count": 97
        }
      ]
    },
    {
      "cell_type": "code",
      "source": [
        "print(df['txts'][384])"
      ],
      "metadata": {
        "colab": {
          "base_uri": "https://localhost:8080/"
        },
        "id": "iB7RmoqRDSw8",
        "outputId": "e9561384-5582-4891-e0ac-6aa6cb0868bf"
      },
      "id": "iB7RmoqRDSw8",
      "execution_count": 91,
      "outputs": [
        {
          "output_type": "stream",
          "name": "stdout",
          "text": [
            "nan\n"
          ]
        }
      ]
    },
    {
      "cell_type": "code",
      "source": [
        "df = df[df['txts'].notna()]\n",
        "df[df['txts'].isna()]"
      ],
      "metadata": {
        "colab": {
          "base_uri": "https://localhost:8080/",
          "height": 49
        },
        "id": "jvwFZ_LQEGy0",
        "outputId": "9714ba35-0089-4c4b-d329-f04c96ba4707"
      },
      "id": "jvwFZ_LQEGy0",
      "execution_count": 98,
      "outputs": [
        {
          "output_type": "execute_result",
          "data": {
            "text/plain": [
              "Empty DataFrame\n",
              "Columns: [articleids, txts]\n",
              "Index: []"
            ],
            "text/html": [
              "\n",
              "  <div id=\"df-29b123c3-f281-4bfe-aebd-d78157a4866c\">\n",
              "    <div class=\"colab-df-container\">\n",
              "      <div>\n",
              "<style scoped>\n",
              "    .dataframe tbody tr th:only-of-type {\n",
              "        vertical-align: middle;\n",
              "    }\n",
              "\n",
              "    .dataframe tbody tr th {\n",
              "        vertical-align: top;\n",
              "    }\n",
              "\n",
              "    .dataframe thead th {\n",
              "        text-align: right;\n",
              "    }\n",
              "</style>\n",
              "<table border=\"1\" class=\"dataframe\">\n",
              "  <thead>\n",
              "    <tr style=\"text-align: right;\">\n",
              "      <th></th>\n",
              "      <th>articleids</th>\n",
              "      <th>txts</th>\n",
              "    </tr>\n",
              "  </thead>\n",
              "  <tbody>\n",
              "  </tbody>\n",
              "</table>\n",
              "</div>\n",
              "      <button class=\"colab-df-convert\" onclick=\"convertToInteractive('df-29b123c3-f281-4bfe-aebd-d78157a4866c')\"\n",
              "              title=\"Convert this dataframe to an interactive table.\"\n",
              "              style=\"display:none;\">\n",
              "        \n",
              "  <svg xmlns=\"http://www.w3.org/2000/svg\" height=\"24px\"viewBox=\"0 0 24 24\"\n",
              "       width=\"24px\">\n",
              "    <path d=\"M0 0h24v24H0V0z\" fill=\"none\"/>\n",
              "    <path d=\"M18.56 5.44l.94 2.06.94-2.06 2.06-.94-2.06-.94-.94-2.06-.94 2.06-2.06.94zm-11 1L8.5 8.5l.94-2.06 2.06-.94-2.06-.94L8.5 2.5l-.94 2.06-2.06.94zm10 10l.94 2.06.94-2.06 2.06-.94-2.06-.94-.94-2.06-.94 2.06-2.06.94z\"/><path d=\"M17.41 7.96l-1.37-1.37c-.4-.4-.92-.59-1.43-.59-.52 0-1.04.2-1.43.59L10.3 9.45l-7.72 7.72c-.78.78-.78 2.05 0 2.83L4 21.41c.39.39.9.59 1.41.59.51 0 1.02-.2 1.41-.59l7.78-7.78 2.81-2.81c.8-.78.8-2.07 0-2.86zM5.41 20L4 18.59l7.72-7.72 1.47 1.35L5.41 20z\"/>\n",
              "  </svg>\n",
              "      </button>\n",
              "      \n",
              "  <style>\n",
              "    .colab-df-container {\n",
              "      display:flex;\n",
              "      flex-wrap:wrap;\n",
              "      gap: 12px;\n",
              "    }\n",
              "\n",
              "    .colab-df-convert {\n",
              "      background-color: #E8F0FE;\n",
              "      border: none;\n",
              "      border-radius: 50%;\n",
              "      cursor: pointer;\n",
              "      display: none;\n",
              "      fill: #1967D2;\n",
              "      height: 32px;\n",
              "      padding: 0 0 0 0;\n",
              "      width: 32px;\n",
              "    }\n",
              "\n",
              "    .colab-df-convert:hover {\n",
              "      background-color: #E2EBFA;\n",
              "      box-shadow: 0px 1px 2px rgba(60, 64, 67, 0.3), 0px 1px 3px 1px rgba(60, 64, 67, 0.15);\n",
              "      fill: #174EA6;\n",
              "    }\n",
              "\n",
              "    [theme=dark] .colab-df-convert {\n",
              "      background-color: #3B4455;\n",
              "      fill: #D2E3FC;\n",
              "    }\n",
              "\n",
              "    [theme=dark] .colab-df-convert:hover {\n",
              "      background-color: #434B5C;\n",
              "      box-shadow: 0px 1px 3px 1px rgba(0, 0, 0, 0.15);\n",
              "      filter: drop-shadow(0px 1px 2px rgba(0, 0, 0, 0.3));\n",
              "      fill: #FFFFFF;\n",
              "    }\n",
              "  </style>\n",
              "\n",
              "      <script>\n",
              "        const buttonEl =\n",
              "          document.querySelector('#df-29b123c3-f281-4bfe-aebd-d78157a4866c button.colab-df-convert');\n",
              "        buttonEl.style.display =\n",
              "          google.colab.kernel.accessAllowed ? 'block' : 'none';\n",
              "\n",
              "        async function convertToInteractive(key) {\n",
              "          const element = document.querySelector('#df-29b123c3-f281-4bfe-aebd-d78157a4866c');\n",
              "          const dataTable =\n",
              "            await google.colab.kernel.invokeFunction('convertToInteractive',\n",
              "                                                     [key], {});\n",
              "          if (!dataTable) return;\n",
              "\n",
              "          const docLinkHtml = 'Like what you see? Visit the ' +\n",
              "            '<a target=\"_blank\" href=https://colab.research.google.com/notebooks/data_table.ipynb>data table notebook</a>'\n",
              "            + ' to learn more about interactive tables.';\n",
              "          element.innerHTML = '';\n",
              "          dataTable['output_type'] = 'display_data';\n",
              "          await google.colab.output.renderOutput(dataTable, element);\n",
              "          const docLink = document.createElement('div');\n",
              "          docLink.innerHTML = docLinkHtml;\n",
              "          element.appendChild(docLink);\n",
              "        }\n",
              "      </script>\n",
              "    </div>\n",
              "  </div>\n",
              "  "
            ]
          },
          "metadata": {},
          "execution_count": 98
        }
      ]
    },
    {
      "cell_type": "code",
      "source": [
        "sent_list = []\n",
        "for pargr in df['txts']:\n",
        "    pargr = pargr.strip()\n",
        "    pargr = re.sub(r\"\\.(?= [A-Z])\", \".\\\\n\", pargr) # Adding new lines to ends of sentences only\n",
        "    pargr1 = pargr.strip()\n",
        "    sent_list.append(pargr1)\n",
        "df['sents']=sent_list\n",
        "df"
      ],
      "metadata": {
        "colab": {
          "base_uri": "https://localhost:8080/",
          "height": 551
        },
        "id": "nGNv5uRzRGDQ",
        "outputId": "37cc15ed-1837-4b95-bd88-c57df9840d8a"
      },
      "id": "nGNv5uRzRGDQ",
      "execution_count": 101,
      "outputs": [
        {
          "output_type": "stream",
          "name": "stderr",
          "text": [
            "/usr/local/lib/python3.7/dist-packages/ipykernel_launcher.py:7: SettingWithCopyWarning: \n",
            "A value is trying to be set on a copy of a slice from a DataFrame.\n",
            "Try using .loc[row_indexer,col_indexer] = value instead\n",
            "\n",
            "See the caveats in the documentation: http://pandas.pydata.org/pandas-docs/stable/user_guide/indexing.html#returning-a-view-versus-a-copy\n",
            "  import sys\n"
          ]
        },
        {
          "output_type": "execute_result",
          "data": {
            "text/plain": [
              "      articleids                                               txts  \\\n",
              "0     PMC8519417  Patients with chronic lymphocytic leukemia (CL...   \n",
              "1     PMC8519417  Patients with CLL with serum IgG >= 400 mg/dL ...   \n",
              "2     PMC8519417  Fifteen patients enrolled with median IgG = 78...   \n",
              "3     PMC8519417  Patients with CLL demonstrate humoral immunode...   \n",
              "4     PMC8519417                                      NCT 03730129.   \n",
              "...          ...                                                ...   \n",
              "7467  PMC4535919  The use of GM-CSF as a single dose with standa...   \n",
              "7468  PMC4535919  A low immunogenicity of PPV, which predominant...   \n",
              "7469  PMC4535919  Various strategies to improve vaccine response...   \n",
              "7470  PMC2150407  B-cell chronic lymphocytic leukaemia (CLL) can...   \n",
              "7471  PMC1968218  2'-Chlorodeoxyadenosine (2CDA) is a purine ana...   \n",
              "\n",
              "                                                  sents  \n",
              "0     Patients with chronic lymphocytic leukemia (CL...  \n",
              "1     Patients with CLL with serum IgG >= 400 mg/dL ...  \n",
              "2     Fifteen patients enrolled with median IgG = 78...  \n",
              "3     Patients with CLL demonstrate humoral immunode...  \n",
              "4                                         NCT 03730129.  \n",
              "...                                                 ...  \n",
              "7467  The use of GM-CSF as a single dose with standa...  \n",
              "7468  A low immunogenicity of PPV, which predominant...  \n",
              "7469  Various strategies to improve vaccine response...  \n",
              "7470  B-cell chronic lymphocytic leukaemia (CLL) can...  \n",
              "7471  2'-Chlorodeoxyadenosine (2CDA) is a purine ana...  \n",
              "\n",
              "[7471 rows x 3 columns]"
            ],
            "text/html": [
              "\n",
              "  <div id=\"df-850e561d-5a2a-4100-a9db-0275e561ff85\">\n",
              "    <div class=\"colab-df-container\">\n",
              "      <div>\n",
              "<style scoped>\n",
              "    .dataframe tbody tr th:only-of-type {\n",
              "        vertical-align: middle;\n",
              "    }\n",
              "\n",
              "    .dataframe tbody tr th {\n",
              "        vertical-align: top;\n",
              "    }\n",
              "\n",
              "    .dataframe thead th {\n",
              "        text-align: right;\n",
              "    }\n",
              "</style>\n",
              "<table border=\"1\" class=\"dataframe\">\n",
              "  <thead>\n",
              "    <tr style=\"text-align: right;\">\n",
              "      <th></th>\n",
              "      <th>articleids</th>\n",
              "      <th>txts</th>\n",
              "      <th>sents</th>\n",
              "    </tr>\n",
              "  </thead>\n",
              "  <tbody>\n",
              "    <tr>\n",
              "      <th>0</th>\n",
              "      <td>PMC8519417</td>\n",
              "      <td>Patients with chronic lymphocytic leukemia (CL...</td>\n",
              "      <td>Patients with chronic lymphocytic leukemia (CL...</td>\n",
              "    </tr>\n",
              "    <tr>\n",
              "      <th>1</th>\n",
              "      <td>PMC8519417</td>\n",
              "      <td>Patients with CLL with serum IgG &gt;= 400 mg/dL ...</td>\n",
              "      <td>Patients with CLL with serum IgG &gt;= 400 mg/dL ...</td>\n",
              "    </tr>\n",
              "    <tr>\n",
              "      <th>2</th>\n",
              "      <td>PMC8519417</td>\n",
              "      <td>Fifteen patients enrolled with median IgG = 78...</td>\n",
              "      <td>Fifteen patients enrolled with median IgG = 78...</td>\n",
              "    </tr>\n",
              "    <tr>\n",
              "      <th>3</th>\n",
              "      <td>PMC8519417</td>\n",
              "      <td>Patients with CLL demonstrate humoral immunode...</td>\n",
              "      <td>Patients with CLL demonstrate humoral immunode...</td>\n",
              "    </tr>\n",
              "    <tr>\n",
              "      <th>4</th>\n",
              "      <td>PMC8519417</td>\n",
              "      <td>NCT 03730129.</td>\n",
              "      <td>NCT 03730129.</td>\n",
              "    </tr>\n",
              "    <tr>\n",
              "      <th>...</th>\n",
              "      <td>...</td>\n",
              "      <td>...</td>\n",
              "      <td>...</td>\n",
              "    </tr>\n",
              "    <tr>\n",
              "      <th>7467</th>\n",
              "      <td>PMC4535919</td>\n",
              "      <td>The use of GM-CSF as a single dose with standa...</td>\n",
              "      <td>The use of GM-CSF as a single dose with standa...</td>\n",
              "    </tr>\n",
              "    <tr>\n",
              "      <th>7468</th>\n",
              "      <td>PMC4535919</td>\n",
              "      <td>A low immunogenicity of PPV, which predominant...</td>\n",
              "      <td>A low immunogenicity of PPV, which predominant...</td>\n",
              "    </tr>\n",
              "    <tr>\n",
              "      <th>7469</th>\n",
              "      <td>PMC4535919</td>\n",
              "      <td>Various strategies to improve vaccine response...</td>\n",
              "      <td>Various strategies to improve vaccine response...</td>\n",
              "    </tr>\n",
              "    <tr>\n",
              "      <th>7470</th>\n",
              "      <td>PMC2150407</td>\n",
              "      <td>B-cell chronic lymphocytic leukaemia (CLL) can...</td>\n",
              "      <td>B-cell chronic lymphocytic leukaemia (CLL) can...</td>\n",
              "    </tr>\n",
              "    <tr>\n",
              "      <th>7471</th>\n",
              "      <td>PMC1968218</td>\n",
              "      <td>2'-Chlorodeoxyadenosine (2CDA) is a purine ana...</td>\n",
              "      <td>2'-Chlorodeoxyadenosine (2CDA) is a purine ana...</td>\n",
              "    </tr>\n",
              "  </tbody>\n",
              "</table>\n",
              "<p>7471 rows × 3 columns</p>\n",
              "</div>\n",
              "      <button class=\"colab-df-convert\" onclick=\"convertToInteractive('df-850e561d-5a2a-4100-a9db-0275e561ff85')\"\n",
              "              title=\"Convert this dataframe to an interactive table.\"\n",
              "              style=\"display:none;\">\n",
              "        \n",
              "  <svg xmlns=\"http://www.w3.org/2000/svg\" height=\"24px\"viewBox=\"0 0 24 24\"\n",
              "       width=\"24px\">\n",
              "    <path d=\"M0 0h24v24H0V0z\" fill=\"none\"/>\n",
              "    <path d=\"M18.56 5.44l.94 2.06.94-2.06 2.06-.94-2.06-.94-.94-2.06-.94 2.06-2.06.94zm-11 1L8.5 8.5l.94-2.06 2.06-.94-2.06-.94L8.5 2.5l-.94 2.06-2.06.94zm10 10l.94 2.06.94-2.06 2.06-.94-2.06-.94-.94-2.06-.94 2.06-2.06.94z\"/><path d=\"M17.41 7.96l-1.37-1.37c-.4-.4-.92-.59-1.43-.59-.52 0-1.04.2-1.43.59L10.3 9.45l-7.72 7.72c-.78.78-.78 2.05 0 2.83L4 21.41c.39.39.9.59 1.41.59.51 0 1.02-.2 1.41-.59l7.78-7.78 2.81-2.81c.8-.78.8-2.07 0-2.86zM5.41 20L4 18.59l7.72-7.72 1.47 1.35L5.41 20z\"/>\n",
              "  </svg>\n",
              "      </button>\n",
              "      \n",
              "  <style>\n",
              "    .colab-df-container {\n",
              "      display:flex;\n",
              "      flex-wrap:wrap;\n",
              "      gap: 12px;\n",
              "    }\n",
              "\n",
              "    .colab-df-convert {\n",
              "      background-color: #E8F0FE;\n",
              "      border: none;\n",
              "      border-radius: 50%;\n",
              "      cursor: pointer;\n",
              "      display: none;\n",
              "      fill: #1967D2;\n",
              "      height: 32px;\n",
              "      padding: 0 0 0 0;\n",
              "      width: 32px;\n",
              "    }\n",
              "\n",
              "    .colab-df-convert:hover {\n",
              "      background-color: #E2EBFA;\n",
              "      box-shadow: 0px 1px 2px rgba(60, 64, 67, 0.3), 0px 1px 3px 1px rgba(60, 64, 67, 0.15);\n",
              "      fill: #174EA6;\n",
              "    }\n",
              "\n",
              "    [theme=dark] .colab-df-convert {\n",
              "      background-color: #3B4455;\n",
              "      fill: #D2E3FC;\n",
              "    }\n",
              "\n",
              "    [theme=dark] .colab-df-convert:hover {\n",
              "      background-color: #434B5C;\n",
              "      box-shadow: 0px 1px 3px 1px rgba(0, 0, 0, 0.15);\n",
              "      filter: drop-shadow(0px 1px 2px rgba(0, 0, 0, 0.3));\n",
              "      fill: #FFFFFF;\n",
              "    }\n",
              "  </style>\n",
              "\n",
              "      <script>\n",
              "        const buttonEl =\n",
              "          document.querySelector('#df-850e561d-5a2a-4100-a9db-0275e561ff85 button.colab-df-convert');\n",
              "        buttonEl.style.display =\n",
              "          google.colab.kernel.accessAllowed ? 'block' : 'none';\n",
              "\n",
              "        async function convertToInteractive(key) {\n",
              "          const element = document.querySelector('#df-850e561d-5a2a-4100-a9db-0275e561ff85');\n",
              "          const dataTable =\n",
              "            await google.colab.kernel.invokeFunction('convertToInteractive',\n",
              "                                                     [key], {});\n",
              "          if (!dataTable) return;\n",
              "\n",
              "          const docLinkHtml = 'Like what you see? Visit the ' +\n",
              "            '<a target=\"_blank\" href=https://colab.research.google.com/notebooks/data_table.ipynb>data table notebook</a>'\n",
              "            + ' to learn more about interactive tables.';\n",
              "          element.innerHTML = '';\n",
              "          dataTable['output_type'] = 'display_data';\n",
              "          await google.colab.output.renderOutput(dataTable, element);\n",
              "          const docLink = document.createElement('div');\n",
              "          docLink.innerHTML = docLinkHtml;\n",
              "          element.appendChild(docLink);\n",
              "        }\n",
              "      </script>\n",
              "    </div>\n",
              "  </div>\n",
              "  "
            ]
          },
          "metadata": {},
          "execution_count": 101
        }
      ]
    },
    {
      "cell_type": "markdown",
      "source": [
        "\n",
        " 2. Blank lines between documents. Document boundaries are needed so that the \"next sentence prediction\" task doesn't span between documents."
      ],
      "metadata": {
        "id": "LJlqk4Pb_H7E"
      },
      "id": "LJlqk4Pb_H7E"
    },
    {
      "cell_type": "code",
      "source": [
        "# Adding blank lines between docs\n",
        "mask = df['articleids'].ne(df['articleids'].shift(-1))\n",
        "df1 = pd.DataFrame('',index=mask.index[mask] + .5, columns=df.columns)\n",
        "\n",
        "df = pd.concat([df, df1]).sort_index().reset_index(drop=True).iloc[:-1]\n",
        "print(df)"
      ],
      "metadata": {
        "colab": {
          "base_uri": "https://localhost:8080/"
        },
        "id": "hOxC5DP0Qmss",
        "outputId": "9dbdd7e1-80c7-4dfc-b344-252d70218e33"
      },
      "id": "hOxC5DP0Qmss",
      "execution_count": 102,
      "outputs": [
        {
          "output_type": "stream",
          "name": "stdout",
          "text": [
            "      articleids                                               txts  \\\n",
            "0     PMC8519417  Patients with chronic lymphocytic leukemia (CL...   \n",
            "1     PMC8519417  Patients with CLL with serum IgG >= 400 mg/dL ...   \n",
            "2     PMC8519417  Fifteen patients enrolled with median IgG = 78...   \n",
            "3     PMC8519417  Patients with CLL demonstrate humoral immunode...   \n",
            "4     PMC8519417                                      NCT 03730129.   \n",
            "...          ...                                                ...   \n",
            "7667  PMC4535919  Various strategies to improve vaccine response...   \n",
            "7668                                                                  \n",
            "7669  PMC2150407  B-cell chronic lymphocytic leukaemia (CLL) can...   \n",
            "7670                                                                  \n",
            "7671  PMC1968218  2'-Chlorodeoxyadenosine (2CDA) is a purine ana...   \n",
            "\n",
            "                                                  sents  \n",
            "0     Patients with chronic lymphocytic leukemia (CL...  \n",
            "1     Patients with CLL with serum IgG >= 400 mg/dL ...  \n",
            "2     Fifteen patients enrolled with median IgG = 78...  \n",
            "3     Patients with CLL demonstrate humoral immunode...  \n",
            "4                                         NCT 03730129.  \n",
            "...                                                 ...  \n",
            "7667  Various strategies to improve vaccine response...  \n",
            "7668                                                     \n",
            "7669  B-cell chronic lymphocytic leukaemia (CLL) can...  \n",
            "7670                                                     \n",
            "7671  2'-Chlorodeoxyadenosine (2CDA) is a purine ana...  \n",
            "\n",
            "[7672 rows x 3 columns]\n"
          ]
        }
      ]
    },
    {
      "cell_type": "markdown",
      "source": [
        " Now we will put updated text into text file"
      ],
      "metadata": {
        "id": "Kan5jHbWO68U"
      },
      "id": "Kan5jHbWO68U"
    },
    {
      "cell_type": "code",
      "source": [
        "!ls drive/MyDrive/GitHub/exBERT/data"
      ],
      "metadata": {
        "colab": {
          "base_uri": "https://localhost:8080/"
        },
        "id": "a0Zh7o85I3k_",
        "outputId": "516f8207-b47f-48fb-f64b-c16757782dca"
      },
      "id": "a0Zh7o85I3k_",
      "execution_count": 116,
      "outputs": [
        {
          "output_type": "stream",
          "name": "stdout",
          "text": [
            "paragrafs.csv  paragrafs.zip  paragraphs.txt\n"
          ]
        }
      ]
    },
    {
      "cell_type": "code",
      "source": [
        "text_file = []\n",
        "for row in df['sents']:\n",
        "  row = row.split('\\n')\n",
        "  for i in row:\n",
        "    i = i.lstrip()\n",
        "    text_file.append(i)\n",
        "\n",
        "text_file[:10]"
      ],
      "metadata": {
        "colab": {
          "base_uri": "https://localhost:8080/"
        },
        "id": "TA9KnhwQHo6j",
        "outputId": "f6792da1-4e5e-45e1-c24b-6b3505977d7c"
      },
      "id": "TA9KnhwQHo6j",
      "execution_count": 125,
      "outputs": [
        {
          "output_type": "execute_result",
          "data": {
            "text/plain": [
              "['Patients with chronic lymphocytic leukemia (CLL) experience hypogammaglobinemia and non-neutropenic infections.',\n",
              " 'In this exploratory proof of concept study, our objective was to determine the prevalence of humoral immunodeficiency in patients with CLL and serum IgG >= 400 mg/dL, and to evaluate the efficacy of subcutaneous immunoglobulin (SCIG) in this population.',\n",
              " 'Patients with CLL with serum IgG >= 400 mg/dL were evaluated for serum IgG, IgM, IgA, along with pre/post vaccine IgG titers to diphtheria, tetanus, and Streptococcus pneumoniae.',\n",
              " 'Patients with evidence of humoral dysfunction were treated with SCIG with Hizentra every 7+-2 days for 24 weeks.',\n",
              " 'Fifteen patients enrolled with median IgG = 782 mg/dL [IQR: 570 to 827], and 6/15 (40%) responded to vaccination with Td, while 5/15 (33%) responded to vaccination with PPV23. 14/15 (93.3%) demonstrated humoral immunodeficiency as evidenced by suboptimal vaccine responses, and were treated with SCIG.',\n",
              " 'In patients treated with SCIG, serum IgG increased from 670 mg/dL [IQR: 565 to 819] to 1054 mg/dL [IQR: 1040 to 1166] after 24 weeks (95% CI: 271-540).',\n",
              " 'For streptococcus pneumoniae, the median protective serotypes at baseline was 8 [IQR: 4 to 9] and increased to 17 [IQR: 17 to 19] after 24 weeks (95% CI: 6.93-13.72).',\n",
              " 'Non-neutropenic infections (NNI) decreased from 14 to 5 during treatment with SCIG.',\n",
              " 'Patients with CLL demonstrate humoral immunodeficiency despite IgG > 400 mg/dL.',\n",
              " 'For these patients, SCIG is well tolerated and efficacious in improving serum IgG, specific IgG to streptococcus pneumoniae, and may decrease reliance on antibiotics for the treatment of NNIs.']"
            ]
          },
          "metadata": {},
          "execution_count": 125
        }
      ]
    },
    {
      "cell_type": "markdown",
      "source": [
        "Preprocessed PubMed texts corpus used to pre-train the BlueBERT models contains ~4000M words extracted from the PubMed ASCII code version. \n",
        "\n",
        "Other operations include:\n",
        "\n",
        " - lowercasing the text\n",
        " - removing speical chars \\x00-\\x7F\n",
        " - tokenizing the text using the NLTK Treebank tokenizer\n"
      ],
      "metadata": {
        "id": "Zm_Vp9J0_UO2"
      },
      "id": "Zm_Vp9J0_UO2"
    },
    {
      "cell_type": "code",
      "source": [
        "preprocessed_text = []\n",
        "for line in text_file:\n",
        "    line = line.lower()\n",
        "    line = re.sub(r'[\\r\\n]+', ' ', line)\n",
        "    line = re.sub(r'[^\\x00-\\x7F]+', ' ', line)\n",
        "    preprocessed_text.append(line)\n",
        "preprocessed_text[:5]\n"
      ],
      "metadata": {
        "colab": {
          "base_uri": "https://localhost:8080/"
        },
        "id": "LqxgeMQLKCUH",
        "outputId": "6a7e8b6c-6fb7-4865-d88b-7bf544a7eb6e"
      },
      "id": "LqxgeMQLKCUH",
      "execution_count": 129,
      "outputs": [
        {
          "output_type": "execute_result",
          "data": {
            "text/plain": [
              "['patients with chronic lymphocytic leukemia (cll) experience hypogammaglobinemia and non-neutropenic infections.',\n",
              " 'in this exploratory proof of concept study, our objective was to determine the prevalence of humoral immunodeficiency in patients with cll and serum igg >= 400 mg/dl, and to evaluate the efficacy of subcutaneous immunoglobulin (scig) in this population.',\n",
              " 'patients with cll with serum igg >= 400 mg/dl were evaluated for serum igg, igm, iga, along with pre/post vaccine igg titers to diphtheria, tetanus, and streptococcus pneumoniae.',\n",
              " 'patients with evidence of humoral dysfunction were treated with scig with hizentra every 7+-2 days for 24 weeks.',\n",
              " 'fifteen patients enrolled with median igg = 782 mg/dl [iqr: 570 to 827], and 6/15 (40%) responded to vaccination with td, while 5/15 (33%) responded to vaccination with ppv23. 14/15 (93.3%) demonstrated humoral immunodeficiency as evidenced by suboptimal vaccine responses, and were treated with scig.']"
            ]
          },
          "metadata": {},
          "execution_count": 129
        }
      ]
    },
    {
      "cell_type": "code",
      "source": [
        "len(preprocessed_text)"
      ],
      "metadata": {
        "colab": {
          "base_uri": "https://localhost:8080/"
        },
        "id": "LJTCU5NZQCRx",
        "outputId": "3e544a90-985c-436b-b448-b2dd10f3deff"
      },
      "id": "LJTCU5NZQCRx",
      "execution_count": 130,
      "outputs": [
        {
          "output_type": "execute_result",
          "data": {
            "text/plain": [
              "30904"
            ]
          },
          "metadata": {},
          "execution_count": 130
        }
      ]
    },
    {
      "cell_type": "code",
      "source": [
        "from nltk import TreebankWordTokenizer"
      ],
      "metadata": {
        "id": "XFGYOyZFMGaf"
      },
      "id": "XFGYOyZFMGaf",
      "execution_count": 15,
      "outputs": []
    },
    {
      "cell_type": "code",
      "source": [
        "pubmed_sent_nltk = []\n",
        "for line in preprocessed_text:\n",
        "  tokenized = TreebankWordTokenizer().tokenize(line)\n",
        "  sentence = ' '.join(tokenized)\n",
        "  sentence = re.sub(r\"\\s's\\b\", \"'s\", sentence)\n",
        "  pubmed_sent_nltk.append(sentence)\n",
        "\n",
        "pubmed_sent_nltk[:10]"
      ],
      "metadata": {
        "colab": {
          "base_uri": "https://localhost:8080/"
        },
        "id": "IA6cn9q0NXGd",
        "outputId": "d303f055-eee1-466e-a8c2-771b4495d9ad"
      },
      "id": "IA6cn9q0NXGd",
      "execution_count": 131,
      "outputs": [
        {
          "output_type": "execute_result",
          "data": {
            "text/plain": [
              "['patients with chronic lymphocytic leukemia ( cll ) experience hypogammaglobinemia and non-neutropenic infections .',\n",
              " 'in this exploratory proof of concept study , our objective was to determine the prevalence of humoral immunodeficiency in patients with cll and serum igg > = 400 mg/dl , and to evaluate the efficacy of subcutaneous immunoglobulin ( scig ) in this population .',\n",
              " 'patients with cll with serum igg > = 400 mg/dl were evaluated for serum igg , igm , iga , along with pre/post vaccine igg titers to diphtheria , tetanus , and streptococcus pneumoniae .',\n",
              " 'patients with evidence of humoral dysfunction were treated with scig with hizentra every 7+-2 days for 24 weeks .',\n",
              " 'fifteen patients enrolled with median igg = 782 mg/dl [ iqr : 570 to 827 ] , and 6/15 ( 40 % ) responded to vaccination with td , while 5/15 ( 33 % ) responded to vaccination with ppv23. 14/15 ( 93.3 % ) demonstrated humoral immunodeficiency as evidenced by suboptimal vaccine responses , and were treated with scig .',\n",
              " 'in patients treated with scig , serum igg increased from 670 mg/dl [ iqr : 565 to 819 ] to 1054 mg/dl [ iqr : 1040 to 1166 ] after 24 weeks ( 95 % ci : 271-540 ) .',\n",
              " 'for streptococcus pneumoniae , the median protective serotypes at baseline was 8 [ iqr : 4 to 9 ] and increased to 17 [ iqr : 17 to 19 ] after 24 weeks ( 95 % ci : 6.93-13.72 ) .',\n",
              " 'non-neutropenic infections ( nni ) decreased from 14 to 5 during treatment with scig .',\n",
              " 'patients with cll demonstrate humoral immunodeficiency despite igg > 400 mg/dl .',\n",
              " 'for these patients , scig is well tolerated and efficacious in improving serum igg , specific igg to streptococcus pneumoniae , and may decrease reliance on antibiotics for the treatment of nnis .']"
            ]
          },
          "metadata": {},
          "execution_count": 131
        }
      ]
    },
    {
      "cell_type": "code",
      "source": [
        "len(pubmed_sent_nltk)"
      ],
      "metadata": {
        "colab": {
          "base_uri": "https://localhost:8080/"
        },
        "id": "Jhwz_szMWora",
        "outputId": "ad70533d-85d0-44d0-cb93-92fce79b266a"
      },
      "id": "Jhwz_szMWora",
      "execution_count": 132,
      "outputs": [
        {
          "output_type": "execute_result",
          "data": {
            "text/plain": [
              "30904"
            ]
          },
          "metadata": {},
          "execution_count": 132
        }
      ]
    },
    {
      "cell_type": "code",
      "source": [
        "save_file = \"drive/MyDrive/GitHub/exBERT/data/train_data.txt\"\n",
        "\n",
        "with open(save_file, 'w') as f:\n",
        "    for item in pubmed_sent_nltk:\n",
        "        f.write(\"%s\\n\" % item)"
      ],
      "metadata": {
        "id": "Yg-2P_KhL_Qx"
      },
      "id": "Yg-2P_KhL_Qx",
      "execution_count": 133,
      "outputs": []
    },
    {
      "cell_type": "markdown",
      "source": [
        "Next we will create our new dictionary and tokenizer (notebook 2_get_vocab_and_tokenizer.ipynb)"
      ],
      "metadata": {
        "id": "bLuLtqASXoC0"
      },
      "id": "bLuLtqASXoC0"
    }
  ],
  "metadata": {
    "kernelspec": {
      "display_name": "Python 3 (ipykernel)",
      "language": "python",
      "name": "python3"
    },
    "language_info": {
      "codemirror_mode": {
        "name": "ipython",
        "version": 3
      },
      "file_extension": ".py",
      "mimetype": "text/x-python",
      "name": "python",
      "nbconvert_exporter": "python",
      "pygments_lexer": "ipython3",
      "version": "3.9.7"
    },
    "colab": {
      "name": "1_data_prep_blue_bert.ipynb",
      "provenance": [],
      "collapsed_sections": [],
      "machine_shape": "hm",
      "include_colab_link": true
    },
    "accelerator": "GPU"
  },
  "nbformat": 4,
  "nbformat_minor": 5
}